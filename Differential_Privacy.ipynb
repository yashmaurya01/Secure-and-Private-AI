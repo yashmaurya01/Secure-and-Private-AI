{
 "cells": [
  {
   "cell_type": "markdown",
   "metadata": {},
   "source": [
    "# Differential Privacy using PATE on MNIST Dataset"
   ]
  },
  {
   "cell_type": "code",
   "execution_count": 1,
   "metadata": {},
   "outputs": [
    {
     "name": "stdout",
     "output_type": "stream",
     "text": [
      "Downloading http://yann.lecun.com/exdb/mnist/train-images-idx3-ubyte.gz to data/MNIST/raw/train-images-idx3-ubyte.gz\n"
     ]
    },
    {
     "data": {
      "application/vnd.jupyter.widget-view+json": {
       "model_id": "ffaf0f60a5f14873a32021869056549c",
       "version_major": 2,
       "version_minor": 0
      },
      "text/plain": [
       "HBox(children=(FloatProgress(value=1.0, bar_style='info', max=1.0), HTML(value='')))"
      ]
     },
     "metadata": {},
     "output_type": "display_data"
    },
    {
     "name": "stdout",
     "output_type": "stream",
     "text": [
      "Extracting data/MNIST/raw/train-images-idx3-ubyte.gz to data/MNIST/raw\n",
      "Downloading http://yann.lecun.com/exdb/mnist/train-labels-idx1-ubyte.gz to data/MNIST/raw/train-labels-idx1-ubyte.gz\n"
     ]
    },
    {
     "data": {
      "application/vnd.jupyter.widget-view+json": {
       "model_id": "d1872eac0ae24fd885f17b67b79a69c6",
       "version_major": 2,
       "version_minor": 0
      },
      "text/plain": [
       "HBox(children=(FloatProgress(value=1.0, bar_style='info', max=1.0), HTML(value='')))"
      ]
     },
     "metadata": {},
     "output_type": "display_data"
    },
    {
     "name": "stdout",
     "output_type": "stream",
     "text": [
      "Extracting data/MNIST/raw/train-labels-idx1-ubyte.gz to data/MNIST/raw\n",
      "Downloading http://yann.lecun.com/exdb/mnist/t10k-images-idx3-ubyte.gz to data/MNIST/raw/t10k-images-idx3-ubyte.gz\n"
     ]
    },
    {
     "data": {
      "application/vnd.jupyter.widget-view+json": {
       "model_id": "a1bc556640874399854f65b94bf45ead",
       "version_major": 2,
       "version_minor": 0
      },
      "text/plain": [
       "HBox(children=(FloatProgress(value=1.0, bar_style='info', max=1.0), HTML(value='')))"
      ]
     },
     "metadata": {},
     "output_type": "display_data"
    },
    {
     "name": "stdout",
     "output_type": "stream",
     "text": [
      "Extracting data/MNIST/raw/t10k-images-idx3-ubyte.gz to data/MNIST/raw\n",
      "Downloading http://yann.lecun.com/exdb/mnist/t10k-labels-idx1-ubyte.gz to data/MNIST/raw/t10k-labels-idx1-ubyte.gz\n"
     ]
    },
    {
     "data": {
      "application/vnd.jupyter.widget-view+json": {
       "model_id": "a2f4b2d424434ac58b8ccb02deade7ce",
       "version_major": 2,
       "version_minor": 0
      },
      "text/plain": [
       "HBox(children=(FloatProgress(value=1.0, bar_style='info', max=1.0), HTML(value='')))"
      ]
     },
     "metadata": {},
     "output_type": "display_data"
    },
    {
     "name": "stdout",
     "output_type": "stream",
     "text": [
      "Extracting data/MNIST/raw/t10k-labels-idx1-ubyte.gz to data/MNIST/raw\n",
      "Processing...\n",
      "Done!\n",
      "\n",
      "\n"
     ]
    }
   ],
   "source": [
    "import torch\n",
    "\n",
    "from torchvision import datasets, transforms\n",
    "from torch.utils.data import Subset\n",
    "    \n",
    "# Transform the image to a tensor and normalize it\n",
    "transform = transforms.Compose([transforms.ToTensor(),\n",
    "                                transforms.Normalize((0.5,), (0.5,))])\n",
    "\n",
    "# Load the train and test data by using the transform\n",
    "train_data = datasets.MNIST(root='data', train=True, download=True, transform=transform)\n",
    "test_data = datasets.MNIST(root='data', train=False, download=True, transform=transform)\n",
    "num_teachers = 100 # Define the num of teachers\n",
    "batch_size = 32 # Teacher batch size\n",
    "\n",
    "def get_data_loaders(train_data, num_teachers):\n",
    "    \"\"\" Function to create data loaders for the Teacher classifier \"\"\"\n",
    "    teacher_loaders = []\n",
    "    data_size = len(train_data) // num_teachers\n",
    "    \n",
    "    for i in range(data_size):\n",
    "        indices = list(range(i*data_size, (i+1)*data_size))\n",
    "        subset_data = Subset(train_data, indices)\n",
    "        loader = torch.utils.data.DataLoader(subset_data, batch_size=batch_size)\n",
    "        teacher_loaders.append(loader)\n",
    "        \n",
    "    return teacher_loaders\n",
    "\n",
    "teacher_loaders = get_data_loaders(train_data, num_teachers)"
   ]
  },
  {
   "cell_type": "code",
   "execution_count": 2,
   "metadata": {},
   "outputs": [],
   "source": [
    "# Create the public dataset by using 90% of the Test data as train #data and remaining 10% as test data.\n",
    "student_train_data = Subset(test_data, list(range(9000)))\n",
    "student_test_data = Subset(test_data, list(range(9000, 10000)))\n",
    "\n",
    "student_train_loader = torch.utils.data.DataLoader(student_train_data, batch_size=batch_size)\n",
    "student_test_loader = torch.utils.data.DataLoader(student_test_data, batch_size=batch_size)"
   ]
  },
  {
   "cell_type": "code",
   "execution_count": 3,
   "metadata": {},
   "outputs": [],
   "source": [
    "import torch.nn as nn\n",
    "import torch.nn.functional as F\n",
    "import torch.optim as optim\n",
    "\n",
    "class Classifier(nn.Module):\n",
    "    \"\"\" A Simple Feed Forward Neural Network. \n",
    "        A CNN can also be used for this problem \n",
    "    \"\"\"\n",
    "    def __init__(self):\n",
    "        super().__init__()\n",
    "        \n",
    "        self.conv1 = nn.Conv2d(1, 10, kernel_size=5)\n",
    "        self.conv2 = nn.Conv2d(10, 20, kernel_size=5)\n",
    "        self.conv2_drop = nn.Dropout2d()\n",
    "        self.fc1 = nn.Linear(320, 50)\n",
    "        self.fc2 = nn.Linear(50, 10)\n",
    "    \n",
    "    def forward(self, x):\n",
    "        x = F.relu(F.max_pool2d(self.conv1(x), 2))\n",
    "        x = F.relu(F.max_pool2d(self.conv2_drop(self.conv2(x)), 2))\n",
    "        x = x.view(-1, 320)\n",
    "        x = F.relu(self.fc1(x))\n",
    "        x = F.dropout(x, training=self.training)\n",
    "        x = self.fc2(x)\n",
    "        return F.log_softmax(x, dim = 1)"
   ]
  },
  {
   "cell_type": "code",
   "execution_count": 4,
   "metadata": {},
   "outputs": [
    {
     "name": "stdout",
     "output_type": "stream",
     "text": [
      "\n",
      "\n"
     ]
    }
   ],
   "source": [
    "def train(model, trainloader, criterion, optimizer, epochs=10):\n",
    "    \"\"\" This function trains a single Classifier model \"\"\"\n",
    "    running_loss = 0\n",
    "    for e in range(epochs):\n",
    "        model.train()\n",
    "        \n",
    "        for images, labels in trainloader:\n",
    "            optimizer.zero_grad()\n",
    "            \n",
    "            output = model.forward(images)\n",
    "            loss = criterion(output, labels)\n",
    "            loss.backward()\n",
    "            optimizer.step()\n",
    "            \n",
    "            running_loss += loss.item()\n",
    "def predict(model, dataloader):\n",
    "    \"\"\" This function predicts labels for a dataset \n",
    "        given the model and dataloader as inputs. \n",
    "    \"\"\"\n",
    "    outputs = torch.zeros(0, dtype=torch.long)\n",
    "    model.eval()\n",
    "    \n",
    "    for images, labels in dataloader:\n",
    "        output = model.forward(images)\n",
    "        ps = torch.argmax(torch.exp(output), dim=1)\n",
    "        outputs = torch.cat((outputs, ps))\n",
    "        \n",
    "    return outputs\n",
    "def train_models(num_teachers):\n",
    "    \"\"\" Trains *num_teacher* models (num_teachers being the number of teacher classifiers) \"\"\"\n",
    "    models = []\n",
    "    for i in range(num_teachers):\n",
    "        model = Classifier()\n",
    "        criterion = nn.NLLLoss()\n",
    "        optimizer = optim.Adam(model.parameters(), lr=0.003)\n",
    "        train(model, teacher_loaders[i], criterion, optimizer)\n",
    "        models.append(model)\n",
    "    return models\n",
    "models = train_models(num_teachers)"
   ]
  },
  {
   "cell_type": "code",
   "execution_count": 5,
   "metadata": {},
   "outputs": [],
   "source": [
    "import numpy as np\n",
    "\n",
    "epsilon = 0.2\n",
    "def aggregated_teacher(models, dataloader, epsilon):\n",
    "    \"\"\" Take predictions from individual teacher model and \n",
    "        creates the true labels for the student after adding \n",
    "        laplacian noise to them \n",
    "    \"\"\"\n",
    "    preds = torch.torch.zeros((len(models), 9000), dtype=torch.long)\n",
    "    for i, model in enumerate(models):\n",
    "        results = predict(model, dataloader)\n",
    "        preds[i] = results\n",
    "    \n",
    "    labels = np.array([]).astype(int)\n",
    "    for image_preds in np.transpose(preds):\n",
    "        label_counts = np.bincount(image_preds, minlength=10)\n",
    "        beta = 1 / epsilon\n",
    "\n",
    "        for i in range(len(label_counts)):\n",
    "            label_counts[i] += np.random.laplace(0, beta, 1)\n",
    "\n",
    "        new_label = np.argmax(label_counts)\n",
    "        labels = np.append(labels, new_label)\n",
    "    \n",
    "    return preds.numpy(), labels\n",
    "teacher_models = models\n",
    "preds, student_labels = aggregated_teacher(teacher_models, student_train_loader, epsilon)"
   ]
  },
  {
   "cell_type": "code",
   "execution_count": 6,
   "metadata": {},
   "outputs": [
    {
     "name": "stdout",
     "output_type": "stream",
     "text": [
      "Epoch: 1/10..  Training Loss: 0.328..  Test Loss: 1.025..  Test Accuracy: 0.689\n",
      "Epoch: 1/10..  Training Loss: 0.180..  Test Loss: 0.593..  Test Accuracy: 0.815\n",
      "Epoch: 1/10..  Training Loss: 0.134..  Test Loss: 0.406..  Test Accuracy: 0.883\n",
      "Epoch: 1/10..  Training Loss: 0.088..  Test Loss: 0.420..  Test Accuracy: 0.852\n",
      "Epoch: 1/10..  Training Loss: 0.091..  Test Loss: 0.342..  Test Accuracy: 0.905\n",
      "Epoch: 2/10..  Training Loss: 0.126..  Test Loss: 0.338..  Test Accuracy: 0.933\n",
      "Epoch: 2/10..  Training Loss: 0.092..  Test Loss: 0.220..  Test Accuracy: 0.942\n",
      "Epoch: 2/10..  Training Loss: 0.078..  Test Loss: 0.232..  Test Accuracy: 0.929\n",
      "Epoch: 2/10..  Training Loss: 0.078..  Test Loss: 0.244..  Test Accuracy: 0.930\n",
      "Epoch: 2/10..  Training Loss: 0.052..  Test Loss: 0.233..  Test Accuracy: 0.927\n",
      "Epoch: 2/10..  Training Loss: 0.053..  Test Loss: 0.248..  Test Accuracy: 0.942\n",
      "Epoch: 3/10..  Training Loss: 0.131..  Test Loss: 0.256..  Test Accuracy: 0.926\n",
      "Epoch: 3/10..  Training Loss: 0.079..  Test Loss: 0.197..  Test Accuracy: 0.950\n",
      "Epoch: 3/10..  Training Loss: 0.073..  Test Loss: 0.184..  Test Accuracy: 0.950\n",
      "Epoch: 3/10..  Training Loss: 0.055..  Test Loss: 0.208..  Test Accuracy: 0.943\n",
      "Epoch: 3/10..  Training Loss: 0.054..  Test Loss: 0.203..  Test Accuracy: 0.940\n",
      "Epoch: 4/10..  Training Loss: 0.079..  Test Loss: 0.188..  Test Accuracy: 0.949\n",
      "Epoch: 4/10..  Training Loss: 0.071..  Test Loss: 0.190..  Test Accuracy: 0.955\n",
      "Epoch: 4/10..  Training Loss: 0.065..  Test Loss: 0.179..  Test Accuracy: 0.949\n",
      "Epoch: 4/10..  Training Loss: 0.065..  Test Loss: 0.180..  Test Accuracy: 0.940\n",
      "Epoch: 4/10..  Training Loss: 0.038..  Test Loss: 0.188..  Test Accuracy: 0.945\n",
      "Epoch: 4/10..  Training Loss: 0.040..  Test Loss: 0.190..  Test Accuracy: 0.948\n",
      "Epoch: 5/10..  Training Loss: 0.101..  Test Loss: 0.225..  Test Accuracy: 0.945\n",
      "Epoch: 5/10..  Training Loss: 0.065..  Test Loss: 0.162..  Test Accuracy: 0.952\n",
      "Epoch: 5/10..  Training Loss: 0.063..  Test Loss: 0.179..  Test Accuracy: 0.940\n",
      "Epoch: 5/10..  Training Loss: 0.050..  Test Loss: 0.177..  Test Accuracy: 0.946\n",
      "Epoch: 5/10..  Training Loss: 0.034..  Test Loss: 0.200..  Test Accuracy: 0.947\n",
      "Epoch: 5/10..  Training Loss: 0.038..  Test Loss: 0.196..  Test Accuracy: 0.942\n",
      "Epoch: 6/10..  Training Loss: 0.091..  Test Loss: 0.181..  Test Accuracy: 0.951\n",
      "Epoch: 6/10..  Training Loss: 0.064..  Test Loss: 0.174..  Test Accuracy: 0.950\n",
      "Epoch: 6/10..  Training Loss: 0.063..  Test Loss: 0.169..  Test Accuracy: 0.950\n",
      "Epoch: 6/10..  Training Loss: 0.044..  Test Loss: 0.204..  Test Accuracy: 0.944\n",
      "Epoch: 6/10..  Training Loss: 0.035..  Test Loss: 0.206..  Test Accuracy: 0.952\n",
      "Epoch: 7/10..  Training Loss: 0.063..  Test Loss: 0.208..  Test Accuracy: 0.947\n",
      "Epoch: 7/10..  Training Loss: 0.070..  Test Loss: 0.171..  Test Accuracy: 0.953\n",
      "Epoch: 7/10..  Training Loss: 0.052..  Test Loss: 0.172..  Test Accuracy: 0.958\n",
      "Epoch: 7/10..  Training Loss: 0.053..  Test Loss: 0.167..  Test Accuracy: 0.956\n",
      "Epoch: 7/10..  Training Loss: 0.040..  Test Loss: 0.181..  Test Accuracy: 0.959\n",
      "Epoch: 7/10..  Training Loss: 0.032..  Test Loss: 0.168..  Test Accuracy: 0.956\n",
      "Epoch: 8/10..  Training Loss: 0.091..  Test Loss: 0.206..  Test Accuracy: 0.943\n",
      "Epoch: 8/10..  Training Loss: 0.057..  Test Loss: 0.180..  Test Accuracy: 0.948\n",
      "Epoch: 8/10..  Training Loss: 0.056..  Test Loss: 0.170..  Test Accuracy: 0.953\n",
      "Epoch: 8/10..  Training Loss: 0.046..  Test Loss: 0.158..  Test Accuracy: 0.958\n",
      "Epoch: 8/10..  Training Loss: 0.038..  Test Loss: 0.185..  Test Accuracy: 0.957\n",
      "Epoch: 8/10..  Training Loss: 0.029..  Test Loss: 0.194..  Test Accuracy: 0.952\n",
      "Epoch: 9/10..  Training Loss: 0.105..  Test Loss: 0.186..  Test Accuracy: 0.953\n",
      "Epoch: 9/10..  Training Loss: 0.058..  Test Loss: 0.163..  Test Accuracy: 0.957\n",
      "Epoch: 9/10..  Training Loss: 0.052..  Test Loss: 0.158..  Test Accuracy: 0.958\n",
      "Epoch: 9/10..  Training Loss: 0.037..  Test Loss: 0.163..  Test Accuracy: 0.958\n",
      "Epoch: 9/10..  Training Loss: 0.039..  Test Loss: 0.180..  Test Accuracy: 0.957\n",
      "Epoch: 10/10..  Training Loss: 0.062..  Test Loss: 0.167..  Test Accuracy: 0.953\n",
      "Epoch: 10/10..  Training Loss: 0.058..  Test Loss: 0.153..  Test Accuracy: 0.960\n",
      "Epoch: 10/10..  Training Loss: 0.049..  Test Loss: 0.162..  Test Accuracy: 0.959\n",
      "Epoch: 10/10..  Training Loss: 0.056..  Test Loss: 0.166..  Test Accuracy: 0.956\n",
      "Epoch: 10/10..  Training Loss: 0.034..  Test Loss: 0.176..  Test Accuracy: 0.953\n",
      "Epoch: 10/10..  Training Loss: 0.033..  Test Loss: 0.197..  Test Accuracy: 0.956\n"
     ]
    }
   ],
   "source": [
    "def student_loader(student_train_loader, labels):\n",
    "    for i, (data, _) in enumerate(iter(student_train_loader)):\n",
    "        yield data, torch.from_numpy(labels[i*len(data): (i+1)*len(data)])\n",
    "student_model = Classifier()\n",
    "criterion = nn.NLLLoss()\n",
    "optimizer = optim.Adam(student_model.parameters(), lr=0.003)\n",
    "epochs = 10\n",
    "steps = 0\n",
    "running_loss = 0\n",
    "for e in range(epochs):\n",
    "    student_model.train()\n",
    "    train_loader = student_loader(student_train_loader, student_labels)\n",
    "    for images, labels in train_loader:\n",
    "        steps += 1\n",
    "        \n",
    "        optimizer.zero_grad()\n",
    "        output = student_model.forward(images)\n",
    "        loss = criterion(output, labels)\n",
    "        loss.backward()\n",
    "        optimizer.step()\n",
    "\n",
    "        running_loss += loss.item()\n",
    "        \n",
    "        if steps % 50 == 0:\n",
    "            test_loss = 0\n",
    "            accuracy = 0\n",
    "            student_model.eval()\n",
    "            with torch.no_grad():\n",
    "                for images, labels in student_test_loader:\n",
    "                    log_ps = student_model(images)\n",
    "                    test_loss += criterion(log_ps, labels).item()\n",
    "                    \n",
    "                    # Accuracy\n",
    "                    ps = torch.exp(log_ps)\n",
    "                    top_p, top_class = ps.topk(1, dim=1)\n",
    "                    equals = top_class == labels.view(*top_class.shape)\n",
    "                    accuracy += torch.mean(equals.type(torch.FloatTensor))\n",
    "            student_model.train()\n",
    "            print(\"Epoch: {}/{}.. \".format(e+1, epochs),\n",
    "                  \"Training Loss: {:.3f}.. \".format(running_loss/len(student_train_loader)),\n",
    "                  \"Test Loss: {:.3f}.. \".format(test_loss/len(student_test_loader)),\n",
    "                  \"Test Accuracy: {:.3f}\".format(accuracy/len(student_test_loader)))\n",
    "            running_loss = 0"
   ]
  },
  {
   "cell_type": "code",
   "execution_count": 7,
   "metadata": {},
   "outputs": [
    {
     "name": "stdout",
     "output_type": "stream",
     "text": [
      "Data Independent Epsilon: 1451.5129254649705\n",
      "Data Dependent Epsilon: 27.09977882180485\n"
     ]
    }
   ],
   "source": [
    "from syft.frameworks.torch.dp import pate\n",
    "\n",
    "data_dep_eps, data_ind_eps = pate.perform_analysis(teacher_preds=preds, indices=student_labels, noise_eps=epsilon, delta=1e-5)\n",
    "print(\"Data Independent Epsilon:\", data_ind_eps)\n",
    "print(\"Data Dependent Epsilon:\", data_dep_eps)"
   ]
  }
 ],
 "metadata": {
  "kernelspec": {
   "display_name": "Python 3",
   "language": "python",
   "name": "python3"
  },
  "language_info": {
   "codemirror_mode": {
    "name": "ipython",
    "version": 3
   },
   "file_extension": ".py",
   "mimetype": "text/x-python",
   "name": "python",
   "nbconvert_exporter": "python",
   "pygments_lexer": "ipython3",
   "version": "3.8.3"
  }
 },
 "nbformat": 4,
 "nbformat_minor": 4
}
